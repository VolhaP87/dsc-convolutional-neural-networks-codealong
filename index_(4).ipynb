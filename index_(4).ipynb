{
  "cells": [
    {
      "cell_type": "markdown",
      "metadata": {
        "id": "view-in-github",
        "colab_type": "text"
      },
      "source": [
        "<a href=\"https://colab.research.google.com/github/VolhaP87/dsc-convolutional-neural-networks-codealong/blob/master/index_(4).ipynb\" target=\"_parent\"><img src=\"https://colab.research.google.com/assets/colab-badge.svg\" alt=\"Open In Colab\"/></a>"
      ]
    },
    {
      "cell_type": "markdown",
      "metadata": {
        "id": "QwK-t5ihlHCv"
      },
      "source": [
        "# Convolutional Neural Networks - Codealong\n",
        "\n",
        "## Introduction\n",
        "\n",
        "In this codealong, we will reinvestigate our previous Santa image classification example. To do this, we will review loading a dataset from a nested directory structure and building a baseline model. From there, we'll build a CNN and demonstrate its improved performance on image recognition tasks. It is recommended you run the cells in order to further explore variables and investigate the code snippets themselves. However, please note that some cells (particularly training cells later on) may take several minutes to run. (On a Macbook pro the entire notebook took ~15 minutes to run.)\n",
        "\n",
        "## Objectives  \n",
        "\n",
        "You will be able to:\n",
        "\n",
        "- Load images from a hierarchical file structure using an image datagenerator \n",
        "- Explain why one might augment image data when training a neural network \n",
        "- Apply data augmentation to image files before training a neural network \n",
        "- Build a CNN using Keras "
      ]
    },
    {
      "cell_type": "markdown",
      "metadata": {
        "id": "iwvo1GhelHCx"
      },
      "source": [
        "## Properly store your images \n",
        "\n",
        "When you're analyzing your image data, file management is important. We will be using the santa images again, but this time, they are stored in two folders: `santa` and `not_santa`. We want to work with a `train`, `validation`, and `test` datasets now, as we know by now that this is the best way to obtain unbiased estimate of your model performance.  \n",
        "\n",
        "Let's import libraries `os` and `shutil`, as we'll need them to create the new folders and move the new files in there."
      ]
    },
    {
      "cell_type": "code",
      "source": [
        "from zipfile import ZipFile\n",
        "data = '/content/Data.zip'\n",
        "with ZipFile(data, 'r') as zip:\n",
        "  zip.extractall()\n",
        "  print('Done')"
      ],
      "metadata": {
        "colab": {
          "base_uri": "https://localhost:8080/"
        },
        "id": "rPwgiIUklUCl",
        "outputId": "7d54dc81-15c8-4f55-f38f-3d72e1c236ed"
      },
      "execution_count": 1,
      "outputs": [
        {
          "output_type": "stream",
          "name": "stdout",
          "text": [
            "Done\n"
          ]
        }
      ]
    },
    {
      "cell_type": "code",
      "source": [
        "from zipfile import ZipFile\n",
        "split = '/content/split.zip'\n",
        "with ZipFile(split, 'r') as zip:\n",
        "  zip.extractall()\n",
        "  print('Done')"
      ],
      "metadata": {
        "colab": {
          "base_uri": "https://localhost:8080/"
        },
        "id": "1MZJZTlImd5t",
        "outputId": "7bd632ad-7159-470e-860d-b6b2b4b84706"
      },
      "execution_count": 2,
      "outputs": [
        {
          "output_type": "stream",
          "name": "stdout",
          "text": [
            "Done\n"
          ]
        }
      ]
    },
    {
      "cell_type": "code",
      "execution_count": 3,
      "metadata": {
        "id": "FJYaZ0QOlHCx"
      },
      "outputs": [],
      "source": [
        "import os, shutil"
      ]
    },
    {
      "cell_type": "markdown",
      "metadata": {
        "id": "2FJkeX88lHCy"
      },
      "source": [
        "Below we create three objects representing the existing directories: `data/santa/` as `data_santa_dir` and `data/not_santa/` as `data_not_santa_dir`. We will create a new directory `split/` as `new_dir`, where we will split the dataset in three groups (or three subdirectories): `train`, `test`, and `validation`, each containing `santa` and `not_santa` subfolders. The final desired structure is represented below: \n",
        "\n",
        "![title](/content/folder_structure.png)"
      ]
    },
    {
      "cell_type": "code",
      "execution_count": 4,
      "metadata": {
        "id": "CWLn9ECSlHCy"
      },
      "outputs": [],
      "source": [
        "data_santa_dir = '/content/Data/santa'\n",
        "data_not_santa_dir = '/content/Data/not_santa'\n",
        "new_dir = '/content/split'"
      ]
    },
    {
      "cell_type": "markdown",
      "metadata": {
        "id": "ACF9w2j6lHCy"
      },
      "source": [
        "You can use `os.listdir()` to create an object that stores all the relevant image names. "
      ]
    },
    {
      "cell_type": "code",
      "execution_count": 5,
      "metadata": {
        "id": "eqEqp4iClHCz"
      },
      "outputs": [],
      "source": [
        "imgs_santa = [file for file in os.listdir(data_santa_dir) if file.endswith('.jpg')]"
      ]
    },
    {
      "cell_type": "code",
      "execution_count": 6,
      "metadata": {
        "colab": {
          "base_uri": "https://localhost:8080/"
        },
        "id": "6pO2XpgwlHCz",
        "outputId": "3122860c-d96e-49f4-f933-c3fb59ec2f38"
      },
      "outputs": [
        {
          "output_type": "execute_result",
          "data": {
            "text/plain": [
              "['00000199.jpg',\n",
              " '00000355.jpg',\n",
              " '00000007.jpg',\n",
              " '00000442.jpg',\n",
              " '00000400.jpg',\n",
              " '00000344.jpg',\n",
              " '00000025.jpg',\n",
              " '00000396.jpg',\n",
              " '00000276.jpg',\n",
              " '00000034.jpg']"
            ]
          },
          "metadata": {},
          "execution_count": 6
        }
      ],
      "source": [
        "imgs_santa[0:10]"
      ]
    },
    {
      "cell_type": "markdown",
      "metadata": {
        "id": "y8MQD3k6lHC0"
      },
      "source": [
        "Let's see how many images there are in the `santa` directory."
      ]
    },
    {
      "cell_type": "code",
      "execution_count": 7,
      "metadata": {
        "colab": {
          "base_uri": "https://localhost:8080/"
        },
        "id": "-K7as1zllHC0",
        "outputId": "bfff326d-ad97-48aa-8acc-f33cae74792d"
      },
      "outputs": [
        {
          "output_type": "stream",
          "name": "stdout",
          "text": [
            "There are 461 santa images\n"
          ]
        }
      ],
      "source": [
        "print('There are', len(imgs_santa), 'santa images')"
      ]
    },
    {
      "cell_type": "markdown",
      "metadata": {
        "id": "asWRGUVClHC0"
      },
      "source": [
        "Now, repeat this for the `not_santa` directory: "
      ]
    },
    {
      "cell_type": "code",
      "execution_count": 8,
      "metadata": {
        "id": "6IM5ZxW6lHC1"
      },
      "outputs": [],
      "source": [
        "imgs_not_santa = [file for file in os.listdir(data_not_santa_dir) if file.endswith('.jpg')]"
      ]
    },
    {
      "cell_type": "code",
      "execution_count": 9,
      "metadata": {
        "colab": {
          "base_uri": "https://localhost:8080/"
        },
        "id": "DtIwBrbvlHC1",
        "outputId": "1121efab-5ab1-4869-c49f-1a48285c8331"
      },
      "outputs": [
        {
          "output_type": "stream",
          "name": "stdout",
          "text": [
            "There are 461 images without santa\n"
          ]
        }
      ],
      "source": [
        "print('There are', len(imgs_not_santa), 'images without santa')"
      ]
    },
    {
      "cell_type": "markdown",
      "metadata": {
        "id": "rgstS14zlHC1"
      },
      "source": [
        "Create all the folders and subfolders in order to get the structure represented above. You can use `os.path.join()` to create strings that will be used later on to generate new directories."
      ]
    },
    {
      "cell_type": "code",
      "source": [
        "dirname = \"new_dir\"\n",
        "#Check the directory name exist or not\n",
        "if os.path.isdir(dirname) == False:\n",
        "    #Create the directory\n",
        "    os.mkdir(dirname)\n",
        "    #Print success message\n",
        "    print(\"The directory is created.\")\n",
        "else:\n",
        "    #Print the message if the directory exists\n",
        "    print(\"The directory already exists.\")"
      ],
      "metadata": {
        "colab": {
          "base_uri": "https://localhost:8080/"
        },
        "id": "HUtf7qkXnkcg",
        "outputId": "d123ec00-f30b-482f-88db-1785838a10ce"
      },
      "execution_count": 11,
      "outputs": [
        {
          "output_type": "stream",
          "name": "stdout",
          "text": [
            "The directory is created.\n"
          ]
        }
      ]
    },
    {
      "cell_type": "code",
      "execution_count": 10,
      "metadata": {
        "colab": {
          "base_uri": "https://localhost:8080/",
          "height": 168
        },
        "id": "Oekgl3RnlHC1",
        "outputId": "884a4e2c-9453-4899-e65c-72a7e7d64a4f"
      },
      "outputs": [
        {
          "output_type": "error",
          "ename": "FileExistsError",
          "evalue": "ignored",
          "traceback": [
            "\u001b[0;31m---------------------------------------------------------------------------\u001b[0m",
            "\u001b[0;31mFileExistsError\u001b[0m                           Traceback (most recent call last)",
            "\u001b[0;32m<ipython-input-10-0d1f8d3cb245>\u001b[0m in \u001b[0;36m<module>\u001b[0;34m()\u001b[0m\n\u001b[0;32m----> 1\u001b[0;31m \u001b[0mos\u001b[0m\u001b[0;34m.\u001b[0m\u001b[0mmkdir\u001b[0m\u001b[0;34m(\u001b[0m\u001b[0mnew_dir\u001b[0m\u001b[0;34m)\u001b[0m\u001b[0;34m\u001b[0m\u001b[0;34m\u001b[0m\u001b[0m\n\u001b[0m",
            "\u001b[0;31mFileExistsError\u001b[0m: [Errno 17] File exists: '/content/split'"
          ]
        }
      ],
      "source": [
        "os.mkdir(new_dir)"
      ]
    },
    {
      "cell_type": "code",
      "execution_count": 12,
      "metadata": {
        "id": "SdOxud81lHC1"
      },
      "outputs": [],
      "source": [
        "train_folder = os.path.join('/content/new_dir', 'train')\n",
        "train_santa = os.path.join(train_folder, 'santa')\n",
        "train_not_santa = os.path.join(train_folder, 'not_santa')\n",
        "\n",
        "test_folder = os.path.join('/content/new_dir', 'test')\n",
        "test_santa = os.path.join(test_folder, 'santa')\n",
        "test_not_santa = os.path.join(test_folder, 'not_santa')\n",
        "\n",
        "val_folder = os.path.join('/content/new_dir', 'validation')\n",
        "val_santa = os.path.join(val_folder, 'santa')\n",
        "val_not_santa = os.path.join(val_folder, 'not_santa')"
      ]
    },
    {
      "cell_type": "code",
      "execution_count": 13,
      "metadata": {
        "colab": {
          "base_uri": "https://localhost:8080/",
          "height": 35
        },
        "id": "JKDCmiidlHC2",
        "outputId": "daa1a06d-4799-4686-ed96-72e7d64bc62a"
      },
      "outputs": [
        {
          "output_type": "execute_result",
          "data": {
            "text/plain": [
              "'/content/new_dir/train/santa'"
            ],
            "application/vnd.google.colaboratory.intrinsic+json": {
              "type": "string"
            }
          },
          "metadata": {},
          "execution_count": 13
        }
      ],
      "source": [
        "train_santa"
      ]
    },
    {
      "cell_type": "markdown",
      "metadata": {
        "id": "WxI6ZYq5lHC2"
      },
      "source": [
        "Now use all the path strings you created to make new directories. You can use `os.mkdir()` to do this. Go have a look at your directory and see if this worked!"
      ]
    },
    {
      "cell_type": "code",
      "execution_count": 14,
      "metadata": {
        "id": "W9cud7HplHC2"
      },
      "outputs": [],
      "source": [
        "os.mkdir(test_folder)\n",
        "os.mkdir(test_santa)\n",
        "os.mkdir(test_not_santa)\n",
        "\n",
        "os.mkdir(train_folder)\n",
        "os.mkdir(train_santa)\n",
        "os.mkdir(train_not_santa)\n",
        "\n",
        "os.mkdir(val_folder)\n",
        "os.mkdir(val_santa)\n",
        "os.mkdir(val_not_santa)"
      ]
    },
    {
      "cell_type": "markdown",
      "metadata": {
        "id": "PRSnfEVTlHC2"
      },
      "source": [
        "Copy the Santa images in the three santa subfolders. Let's put the first 271 images in the training set, the next 100 images in the validation set and the final 90 images in the test set."
      ]
    },
    {
      "cell_type": "code",
      "execution_count": 15,
      "metadata": {
        "id": "Bbq9IFWElHC2"
      },
      "outputs": [],
      "source": [
        "# train santa\n",
        "imgs = imgs_santa[:271]\n",
        "for img in imgs:\n",
        "    origin = os.path.join(data_santa_dir, img)\n",
        "    destination = os.path.join(train_santa, img)\n",
        "    shutil.copyfile(origin, destination)"
      ]
    },
    {
      "cell_type": "code",
      "execution_count": 16,
      "metadata": {
        "id": "KmcUwmQMlHC2"
      },
      "outputs": [],
      "source": [
        "# validation santa\n",
        "imgs = imgs_santa[271:371]\n",
        "for img in imgs:\n",
        "    origin = os.path.join(data_santa_dir, img)\n",
        "    destination = os.path.join(val_santa, img)\n",
        "    shutil.copyfile(origin, destination)"
      ]
    },
    {
      "cell_type": "code",
      "execution_count": 17,
      "metadata": {
        "id": "JHgSvYqGlHC2"
      },
      "outputs": [],
      "source": [
        "# test santa\n",
        "imgs = imgs_santa[371:]\n",
        "for img in imgs:\n",
        "    origin = os.path.join(data_santa_dir, img)\n",
        "    destination = os.path.join(test_santa, img)\n",
        "    shutil.copyfile(origin, destination)"
      ]
    },
    {
      "cell_type": "markdown",
      "metadata": {
        "id": "BZQwTbxYlHC2"
      },
      "source": [
        "Now, repeat all this for the `not_santa` images!"
      ]
    },
    {
      "cell_type": "code",
      "execution_count": 18,
      "metadata": {
        "id": "ZiKYjrC0lHC2"
      },
      "outputs": [],
      "source": [
        "# train not_santa\n",
        "imgs = imgs_not_santa[:271]\n",
        "for img in imgs:\n",
        "    origin = os.path.join(data_not_santa_dir, img)\n",
        "    destination = os.path.join(train_not_santa, img)\n",
        "    shutil.copyfile(origin, destination)\n",
        "# validation not_santa\n",
        "imgs = imgs_not_santa[271:371]\n",
        "for img in imgs:\n",
        "    origin = os.path.join(data_not_santa_dir, img)\n",
        "    destination = os.path.join(val_not_santa, img)\n",
        "    shutil.copyfile(origin, destination)\n",
        "# test not_santa\n",
        "imgs = imgs_not_santa[371:]\n",
        "for img in imgs:\n",
        "    origin = os.path.join(data_not_santa_dir, img)\n",
        "    destination = os.path.join(test_not_santa, img)\n",
        "    shutil.copyfile(origin, destination)"
      ]
    },
    {
      "cell_type": "markdown",
      "metadata": {
        "id": "P1AOjdE5lHC3"
      },
      "source": [
        "Let's print out how many images we have in each directory so we know for sure our numbers are right!"
      ]
    },
    {
      "cell_type": "code",
      "execution_count": 19,
      "metadata": {
        "colab": {
          "base_uri": "https://localhost:8080/"
        },
        "id": "XzZvK9zAlHC3",
        "outputId": "4745ba55-4d73-477e-a34b-f68eeebfcf9b"
      },
      "outputs": [
        {
          "output_type": "stream",
          "name": "stdout",
          "text": [
            "There are 271 santa images in the training set\n"
          ]
        }
      ],
      "source": [
        "print('There are', len(os.listdir(train_santa)), 'santa images in the training set')"
      ]
    },
    {
      "cell_type": "code",
      "execution_count": 20,
      "metadata": {
        "colab": {
          "base_uri": "https://localhost:8080/"
        },
        "id": "oXIu_adilHC3",
        "outputId": "fe23dd97-bdb9-4854-865c-6c1bee8af7d4"
      },
      "outputs": [
        {
          "output_type": "stream",
          "name": "stdout",
          "text": [
            "There are 100 santa images in the validation set\n"
          ]
        }
      ],
      "source": [
        "print('There are', len(os.listdir(val_santa)), 'santa images in the validation set')"
      ]
    },
    {
      "cell_type": "code",
      "execution_count": 21,
      "metadata": {
        "colab": {
          "base_uri": "https://localhost:8080/"
        },
        "id": "xc9DY6VLlHC3",
        "outputId": "dd4bbb7f-434a-4a1d-d8f5-521aeea6174d"
      },
      "outputs": [
        {
          "output_type": "stream",
          "name": "stdout",
          "text": [
            "There are 90 santa images in the test set\n"
          ]
        }
      ],
      "source": [
        "print('There are', len(os.listdir(test_santa)), 'santa images in the test set')"
      ]
    },
    {
      "cell_type": "code",
      "execution_count": 22,
      "metadata": {
        "colab": {
          "base_uri": "https://localhost:8080/"
        },
        "id": "92NqPY-YlHC3",
        "outputId": "ae850230-3814-4fcc-e72d-4a3b9e27d49c"
      },
      "outputs": [
        {
          "output_type": "stream",
          "name": "stdout",
          "text": [
            "There are 271 images without santa in the train set\n"
          ]
        }
      ],
      "source": [
        "print('There are', len(os.listdir(train_not_santa)), 'images without santa in the train set')"
      ]
    },
    {
      "cell_type": "code",
      "execution_count": 23,
      "metadata": {
        "colab": {
          "base_uri": "https://localhost:8080/"
        },
        "id": "7C6CRAv4lHC3",
        "outputId": "b90d1e40-4035-4733-96bc-1dcaee66fdc0"
      },
      "outputs": [
        {
          "output_type": "stream",
          "name": "stdout",
          "text": [
            "There are 100 images without santa in the validation set\n"
          ]
        }
      ],
      "source": [
        "print('There are', len(os.listdir(val_not_santa)), 'images without santa in the validation set')"
      ]
    },
    {
      "cell_type": "code",
      "execution_count": 24,
      "metadata": {
        "colab": {
          "base_uri": "https://localhost:8080/"
        },
        "id": "fmzYrF5hlHC3",
        "outputId": "6953f2ba-f178-42f0-c2b9-b9fe5b47bf6d"
      },
      "outputs": [
        {
          "output_type": "stream",
          "name": "stdout",
          "text": [
            "There are 90 images without santa in the test set\n"
          ]
        }
      ],
      "source": [
        "print('There are', len(os.listdir(test_not_santa)), 'images without santa in the test set')"
      ]
    },
    {
      "cell_type": "markdown",
      "metadata": {
        "id": "6dXBmgvglHC3"
      },
      "source": [
        "## Use a densely connected network as a baseline"
      ]
    },
    {
      "cell_type": "markdown",
      "metadata": {
        "id": "ZUbJRg4LlHC3"
      },
      "source": [
        "Now that we've a handle on our data, we can easily use Keras' module with image-processing tools. Let's import the necessary libraries below. "
      ]
    },
    {
      "cell_type": "code",
      "execution_count": 25,
      "metadata": {
        "id": "NkO4jSLilHC3"
      },
      "outputs": [],
      "source": [
        "import time\n",
        "import matplotlib.pyplot as plt\n",
        "import scipy\n",
        "import numpy as np\n",
        "from PIL import Image\n",
        "from scipy import ndimage\n",
        "from keras.preprocessing.image import ImageDataGenerator, array_to_img,\\\n",
        " img_to_array, load_img\n",
        "\n",
        "np.random.seed(123)"
      ]
    },
    {
      "cell_type": "code",
      "execution_count": 26,
      "metadata": {
        "colab": {
          "base_uri": "https://localhost:8080/"
        },
        "id": "ssRi8NBglHC3",
        "outputId": "f037b52a-ed52-4587-f913-1a38b7d0d394"
      },
      "outputs": [
        {
          "output_type": "stream",
          "name": "stdout",
          "text": [
            "Found 180 images belonging to 2 classes.\n",
            "Found 200 images belonging to 2 classes.\n",
            "Found 542 images belonging to 2 classes.\n"
          ]
        }
      ],
      "source": [
        "# get all the data in the directory split/test (180 images), and reshape them\n",
        "test_generator = ImageDataGenerator(rescale=1./255).flow_from_directory(\n",
        "        test_folder, \n",
        "        target_size=(64, 64), batch_size = 180) \n",
        "\n",
        "# get all the data in the directory split/validation (200 images), and reshape them\n",
        "val_generator = ImageDataGenerator(rescale=1./255).flow_from_directory(\n",
        "        val_folder, \n",
        "        target_size=(64, 64), batch_size = 200)\n",
        "\n",
        "# get all the data in the directory split/train (542 images), and reshape them\n",
        "train_generator = ImageDataGenerator(rescale=1./255).flow_from_directory(\n",
        "        train_folder, \n",
        "        target_size=(64, 64), batch_size=542)"
      ]
    },
    {
      "cell_type": "code",
      "execution_count": 27,
      "metadata": {
        "id": "XLbtwDX-lHC4"
      },
      "outputs": [],
      "source": [
        "# create the data sets\n",
        "train_images, train_labels = next(train_generator)\n",
        "test_images, test_labels = next(test_generator)\n",
        "val_images, val_labels = next(val_generator)"
      ]
    },
    {
      "cell_type": "code",
      "execution_count": 28,
      "metadata": {
        "colab": {
          "base_uri": "https://localhost:8080/"
        },
        "id": "uMvV1ee9lHC4",
        "outputId": "5fbc2e70-b921-4338-80fd-e72b87c9c9b4"
      },
      "outputs": [
        {
          "output_type": "stream",
          "name": "stdout",
          "text": [
            "Number of training samples: 542\n",
            "Number of testing samples: 180\n",
            "Number of validation samples: 200\n",
            "train_images shape: (542, 64, 64, 3)\n",
            "train_labels shape: (542, 2)\n",
            "test_images shape: (180, 64, 64, 3)\n",
            "test_labels shape: (180, 2)\n",
            "val_images shape: (200, 64, 64, 3)\n",
            "val_labels shape: (200, 2)\n"
          ]
        }
      ],
      "source": [
        "# Explore your dataset again\n",
        "m_train = train_images.shape[0]\n",
        "num_px = train_images.shape[1]\n",
        "m_test = test_images.shape[0]\n",
        "m_val = val_images.shape[0]\n",
        "\n",
        "print (\"Number of training samples: \" + str(m_train))\n",
        "print (\"Number of testing samples: \" + str(m_test))\n",
        "print (\"Number of validation samples: \" + str(m_val))\n",
        "print (\"train_images shape: \" + str(train_images.shape))\n",
        "print (\"train_labels shape: \" + str(train_labels.shape))\n",
        "print (\"test_images shape: \" + str(test_images.shape))\n",
        "print (\"test_labels shape: \" + str(test_labels.shape))\n",
        "print (\"val_images shape: \" + str(val_images.shape))\n",
        "print (\"val_labels shape: \" + str(val_labels.shape))"
      ]
    },
    {
      "cell_type": "code",
      "execution_count": 29,
      "metadata": {
        "colab": {
          "base_uri": "https://localhost:8080/"
        },
        "id": "MsnYcxM2lHC4",
        "outputId": "2e8b6517-55b7-4124-d7fb-c17c91e0474d"
      },
      "outputs": [
        {
          "output_type": "stream",
          "name": "stdout",
          "text": [
            "(542, 12288)\n",
            "(180, 12288)\n",
            "(200, 12288)\n"
          ]
        }
      ],
      "source": [
        "train_img = train_images.reshape(train_images.shape[0], -1)\n",
        "test_img = test_images.reshape(test_images.shape[0], -1)\n",
        "val_img = val_images.reshape(val_images.shape[0], -1)\n",
        "\n",
        "print(train_img.shape)\n",
        "print(test_img.shape)\n",
        "print(val_img.shape)"
      ]
    },
    {
      "cell_type": "code",
      "execution_count": 30,
      "metadata": {
        "id": "tRxOuPKtlHC4"
      },
      "outputs": [],
      "source": [
        "train_y = np.reshape(train_labels[:,0], (542,1))\n",
        "test_y = np.reshape(test_labels[:,0], (180,1))\n",
        "val_y = np.reshape(val_labels[:,0], (200,1))"
      ]
    },
    {
      "cell_type": "code",
      "execution_count": 31,
      "metadata": {
        "id": "HpFtfirIlHC4"
      },
      "outputs": [],
      "source": [
        "# Build a baseline fully connected model\n",
        "from keras import models\n",
        "from keras import layers\n",
        "np.random.seed(123)\n",
        "model = models.Sequential()\n",
        "model.add(layers.Dense(20, activation='relu', input_shape=(12288,)))\n",
        " # 2 hidden layers\n",
        "model.add(layers.Dense(7, activation='relu'))\n",
        "model.add(layers.Dense(5, activation='relu'))\n",
        "model.add(layers.Dense(1, activation='sigmoid'))"
      ]
    },
    {
      "cell_type": "code",
      "execution_count": 42,
      "metadata": {
        "colab": {
          "base_uri": "https://localhost:8080/"
        },
        "id": "rcN-p1FklHC4",
        "outputId": "843b5b4a-6295-43f3-caa3-8794dc78aa41"
      },
      "outputs": [
        {
          "output_type": "stream",
          "name": "stdout",
          "text": [
            "Epoch 1/50\n",
            "542/542 [==============================] - 2s 3ms/step - loss: 0.6942 - accuracy: 0.4631 - val_loss: 0.6913 - val_accuracy: 0.5050\n",
            "Epoch 2/50\n",
            "542/542 [==============================] - 1s 2ms/step - loss: 0.6944 - accuracy: 0.4576 - val_loss: 0.6913 - val_accuracy: 0.5050\n",
            "Epoch 3/50\n",
            "542/542 [==============================] - 1s 3ms/step - loss: 0.6941 - accuracy: 0.5092 - val_loss: 0.6913 - val_accuracy: 0.5000\n",
            "Epoch 4/50\n",
            "542/542 [==============================] - 1s 3ms/step - loss: 0.6943 - accuracy: 0.4797 - val_loss: 0.6913 - val_accuracy: 0.5000\n",
            "Epoch 5/50\n",
            "542/542 [==============================] - 1s 2ms/step - loss: 0.6940 - accuracy: 0.5018 - val_loss: 0.6917 - val_accuracy: 0.5000\n",
            "Epoch 6/50\n",
            "542/542 [==============================] - 1s 2ms/step - loss: 0.6942 - accuracy: 0.4852 - val_loss: 0.6913 - val_accuracy: 0.5050\n",
            "Epoch 7/50\n",
            "542/542 [==============================] - 1s 3ms/step - loss: 0.6943 - accuracy: 0.4723 - val_loss: 0.6913 - val_accuracy: 0.5050\n",
            "Epoch 8/50\n",
            "542/542 [==============================] - 1s 2ms/step - loss: 0.6943 - accuracy: 0.4613 - val_loss: 0.6913 - val_accuracy: 0.5050\n",
            "Epoch 9/50\n",
            "542/542 [==============================] - 1s 3ms/step - loss: 0.6943 - accuracy: 0.4723 - val_loss: 0.6913 - val_accuracy: 0.5050\n",
            "Epoch 10/50\n",
            "542/542 [==============================] - 1s 3ms/step - loss: 0.6943 - accuracy: 0.4779 - val_loss: 0.6913 - val_accuracy: 0.5050\n",
            "Epoch 11/50\n",
            "542/542 [==============================] - 1s 3ms/step - loss: 0.6943 - accuracy: 0.4742 - val_loss: 0.6913 - val_accuracy: 0.5000\n",
            "Epoch 12/50\n",
            "542/542 [==============================] - 1s 2ms/step - loss: 0.6941 - accuracy: 0.5000 - val_loss: 0.6913 - val_accuracy: 0.5000\n",
            "Epoch 13/50\n",
            "542/542 [==============================] - 1s 2ms/step - loss: 0.6943 - accuracy: 0.4576 - val_loss: 0.6913 - val_accuracy: 0.5050\n",
            "Epoch 14/50\n",
            "542/542 [==============================] - 1s 3ms/step - loss: 0.6944 - accuracy: 0.4631 - val_loss: 0.6913 - val_accuracy: 0.5050\n",
            "Epoch 15/50\n",
            "542/542 [==============================] - 1s 2ms/step - loss: 0.6943 - accuracy: 0.4686 - val_loss: 0.6913 - val_accuracy: 0.5050\n",
            "Epoch 16/50\n",
            "542/542 [==============================] - 1s 2ms/step - loss: 0.6941 - accuracy: 0.4982 - val_loss: 0.6914 - val_accuracy: 0.5050\n",
            "Epoch 17/50\n",
            "542/542 [==============================] - 1s 3ms/step - loss: 0.6943 - accuracy: 0.4815 - val_loss: 0.6913 - val_accuracy: 0.5050\n",
            "Epoch 18/50\n",
            "542/542 [==============================] - 1s 3ms/step - loss: 0.6943 - accuracy: 0.4982 - val_loss: 0.6913 - val_accuracy: 0.5050\n",
            "Epoch 19/50\n",
            "542/542 [==============================] - 1s 3ms/step - loss: 0.6942 - accuracy: 0.4926 - val_loss: 0.6914 - val_accuracy: 0.5000\n",
            "Epoch 20/50\n",
            "542/542 [==============================] - 1s 3ms/step - loss: 0.6940 - accuracy: 0.5018 - val_loss: 0.6913 - val_accuracy: 0.5000\n",
            "Epoch 21/50\n",
            "542/542 [==============================] - 1s 3ms/step - loss: 0.6943 - accuracy: 0.4871 - val_loss: 0.6914 - val_accuracy: 0.5000\n",
            "Epoch 22/50\n",
            "542/542 [==============================] - 1s 2ms/step - loss: 0.6942 - accuracy: 0.4908 - val_loss: 0.6913 - val_accuracy: 0.5050\n",
            "Epoch 23/50\n",
            "542/542 [==============================] - 1s 2ms/step - loss: 0.6943 - accuracy: 0.4668 - val_loss: 0.6913 - val_accuracy: 0.5050\n",
            "Epoch 24/50\n",
            "542/542 [==============================] - 1s 3ms/step - loss: 0.6943 - accuracy: 0.4668 - val_loss: 0.6913 - val_accuracy: 0.5050\n",
            "Epoch 25/50\n",
            "542/542 [==============================] - 1s 3ms/step - loss: 0.6941 - accuracy: 0.4908 - val_loss: 0.6914 - val_accuracy: 0.5000\n",
            "Epoch 26/50\n",
            "542/542 [==============================] - 1s 2ms/step - loss: 0.6943 - accuracy: 0.4779 - val_loss: 0.6913 - val_accuracy: 0.5000\n",
            "Epoch 27/50\n",
            "542/542 [==============================] - 1s 2ms/step - loss: 0.6936 - accuracy: 0.5037 - val_loss: 0.6916 - val_accuracy: 0.5050\n",
            "Epoch 28/50\n",
            "542/542 [==============================] - 1s 3ms/step - loss: 0.6945 - accuracy: 0.4815 - val_loss: 0.6914 - val_accuracy: 0.5050\n",
            "Epoch 29/50\n",
            "542/542 [==============================] - 1s 3ms/step - loss: 0.6942 - accuracy: 0.4926 - val_loss: 0.6913 - val_accuracy: 0.5050\n",
            "Epoch 30/50\n",
            "542/542 [==============================] - 1s 2ms/step - loss: 0.6944 - accuracy: 0.4613 - val_loss: 0.6913 - val_accuracy: 0.5050\n",
            "Epoch 31/50\n",
            "542/542 [==============================] - 1s 2ms/step - loss: 0.6943 - accuracy: 0.4834 - val_loss: 0.6913 - val_accuracy: 0.5050\n",
            "Epoch 32/50\n",
            "542/542 [==============================] - 1s 2ms/step - loss: 0.6943 - accuracy: 0.4576 - val_loss: 0.6913 - val_accuracy: 0.5000\n",
            "Epoch 33/50\n",
            "542/542 [==============================] - 1s 2ms/step - loss: 0.6933 - accuracy: 0.4982 - val_loss: 0.6918 - val_accuracy: 0.5050\n",
            "Epoch 34/50\n",
            "542/542 [==============================] - 1s 3ms/step - loss: 0.6944 - accuracy: 0.4852 - val_loss: 0.6913 - val_accuracy: 0.5050\n",
            "Epoch 35/50\n",
            "542/542 [==============================] - 1s 3ms/step - loss: 0.6943 - accuracy: 0.4520 - val_loss: 0.6913 - val_accuracy: 0.5050\n",
            "Epoch 36/50\n",
            "542/542 [==============================] - 1s 2ms/step - loss: 0.6943 - accuracy: 0.4834 - val_loss: 0.6913 - val_accuracy: 0.5000\n",
            "Epoch 37/50\n",
            "542/542 [==============================] - 1s 3ms/step - loss: 0.6939 - accuracy: 0.4779 - val_loss: 0.6914 - val_accuracy: 0.5050\n",
            "Epoch 38/50\n",
            "542/542 [==============================] - 1s 2ms/step - loss: 0.6943 - accuracy: 0.4779 - val_loss: 0.6913 - val_accuracy: 0.5000\n",
            "Epoch 39/50\n",
            "542/542 [==============================] - 1s 2ms/step - loss: 0.6941 - accuracy: 0.5074 - val_loss: 0.6914 - val_accuracy: 0.5050\n",
            "Epoch 40/50\n",
            "542/542 [==============================] - 1s 3ms/step - loss: 0.6942 - accuracy: 0.4834 - val_loss: 0.6913 - val_accuracy: 0.5000\n",
            "Epoch 41/50\n",
            "542/542 [==============================] - 1s 3ms/step - loss: 0.6940 - accuracy: 0.5092 - val_loss: 0.6915 - val_accuracy: 0.5050\n",
            "Epoch 42/50\n",
            "542/542 [==============================] - 1s 3ms/step - loss: 0.6944 - accuracy: 0.4723 - val_loss: 0.6913 - val_accuracy: 0.5050\n",
            "Epoch 43/50\n",
            "542/542 [==============================] - 1s 2ms/step - loss: 0.6943 - accuracy: 0.4686 - val_loss: 0.6913 - val_accuracy: 0.5000\n",
            "Epoch 44/50\n",
            "542/542 [==============================] - 1s 3ms/step - loss: 0.6941 - accuracy: 0.4871 - val_loss: 0.6914 - val_accuracy: 0.5000\n",
            "Epoch 45/50\n",
            "542/542 [==============================] - 1s 3ms/step - loss: 0.6942 - accuracy: 0.4889 - val_loss: 0.6915 - val_accuracy: 0.5000\n",
            "Epoch 46/50\n",
            "542/542 [==============================] - 1s 3ms/step - loss: 0.6943 - accuracy: 0.4649 - val_loss: 0.6915 - val_accuracy: 0.5000\n",
            "Epoch 47/50\n",
            "542/542 [==============================] - 1s 3ms/step - loss: 0.6941 - accuracy: 0.4963 - val_loss: 0.6913 - val_accuracy: 0.5050\n",
            "Epoch 48/50\n",
            "542/542 [==============================] - 1s 3ms/step - loss: 0.6943 - accuracy: 0.4705 - val_loss: 0.6913 - val_accuracy: 0.5000\n",
            "Epoch 49/50\n",
            "542/542 [==============================] - 1s 3ms/step - loss: 0.6943 - accuracy: 0.4705 - val_loss: 0.6913 - val_accuracy: 0.5000\n",
            "Epoch 50/50\n",
            "542/542 [==============================] - 1s 3ms/step - loss: 0.6934 - accuracy: 0.5185 - val_loss: 0.6916 - val_accuracy: 0.5050\n"
          ]
        }
      ],
      "source": [
        "model.compile(optimizer='sgd',\n",
        "              loss='binary_crossentropy',\n",
        "              metrics=['accuracy'])\n",
        "\n",
        "histoire = model.fit(train_img,\n",
        "                    train_y,\n",
        "                    epochs=50,\n",
        "                    batch_size=1,\n",
        "                    validation_data=(val_img, val_y))"
      ]
    },
    {
      "cell_type": "code",
      "execution_count": 45,
      "metadata": {
        "colab": {
          "base_uri": "https://localhost:8080/"
        },
        "id": "vV9GNxa7lHC4",
        "outputId": "3d88ca97-d085-4b60-b547-c487a472c19e"
      },
      "outputs": [
        {
          "output_type": "stream",
          "name": "stdout",
          "text": [
            "17/17 [==============================] - 0s 3ms/step - loss: 0.6935 - accuracy: 0.5000\n"
          ]
        }
      ],
      "source": [
        "results_train = model.evaluate(train_img, train_y)"
      ]
    },
    {
      "cell_type": "code",
      "execution_count": 44,
      "metadata": {
        "colab": {
          "base_uri": "https://localhost:8080/"
        },
        "id": "gzG4FRsclHC4",
        "outputId": "86d25c24-ebd9-4136-c867-467f63da108c"
      },
      "outputs": [
        {
          "output_type": "stream",
          "name": "stdout",
          "text": [
            "6/6 [==============================] - 0s 5ms/step - loss: 0.6935 - accuracy: 0.5000\n"
          ]
        }
      ],
      "source": [
        "results_test = model.evaluate(test_img, test_y)"
      ]
    },
    {
      "cell_type": "code",
      "execution_count": 46,
      "metadata": {
        "colab": {
          "base_uri": "https://localhost:8080/"
        },
        "id": "9beVwxp5lHC4",
        "outputId": "1d9d7f4e-6ba1-4674-b020-0d2d38227458"
      },
      "outputs": [
        {
          "output_type": "execute_result",
          "data": {
            "text/plain": [
              "[0.693523645401001, 0.5]"
            ]
          },
          "metadata": {},
          "execution_count": 46
        }
      ],
      "source": [
        "results_train"
      ]
    },
    {
      "cell_type": "code",
      "execution_count": 47,
      "metadata": {
        "colab": {
          "base_uri": "https://localhost:8080/"
        },
        "id": "V4tBj4yalHC4",
        "outputId": "7d9d5984-8516-4293-e2b7-61dfdb9afa67"
      },
      "outputs": [
        {
          "output_type": "execute_result",
          "data": {
            "text/plain": [
              "[0.6934904456138611, 0.5]"
            ]
          },
          "metadata": {},
          "execution_count": 47
        }
      ],
      "source": [
        "results_test"
      ]
    },
    {
      "cell_type": "markdown",
      "metadata": {
        "id": "SGdzl-6elHC4"
      },
      "source": [
        "Remember that, in our previous lab on building deeper neural networks from scratch, we obtained a training accuracy of 95%, and a test set accuracy of 74.23%. \n",
        "\n",
        "This result is similar to what we got building our manual \"deeper\" dense model. The results are not entirely different. This is not a surprise!\n",
        "- Before, we only had a training and a validation set (which was at the same time the test set). Now we have split up the data 3-ways.\n",
        "- We didn't use minibatches before, yet we used mini-batches of 32 units here.\n",
        " \n",
        "## Build a CNN"
      ]
    },
    {
      "cell_type": "code",
      "execution_count": 48,
      "metadata": {
        "id": "OG9b1JPklHC4"
      },
      "outputs": [],
      "source": [
        "model = models.Sequential()\n",
        "model.add(layers.Conv2D(32, (3, 3), activation='relu',\n",
        "                        input_shape=(64 ,64,  3)))\n",
        "model.add(layers.MaxPooling2D((2, 2)))\n",
        "\n",
        "model.add(layers.Conv2D(32, (4, 4), activation='relu'))\n",
        "model.add(layers.MaxPooling2D((2, 2)))\n",
        "\n",
        "model.add(layers.Conv2D(64, (3, 3), activation='relu'))\n",
        "model.add(layers.MaxPooling2D((2, 2)))\n",
        "\n",
        "model.add(layers.Flatten())\n",
        "model.add(layers.Dense(64, activation='relu'))\n",
        "model.add(layers.Dense(1, activation='sigmoid'))\n",
        "\n",
        "model.compile(loss='binary_crossentropy',\n",
        "              optimizer=\"sgd\",\n",
        "              metrics=['acc'])"
      ]
    },
    {
      "cell_type": "code",
      "execution_count": 50,
      "metadata": {
        "colab": {
          "base_uri": "https://localhost:8080/"
        },
        "id": "k6WcsnaclHC4",
        "outputId": "445e770a-2c4f-4e40-f42b-4ab82385ded9"
      },
      "outputs": [
        {
          "output_type": "stream",
          "name": "stdout",
          "text": [
            "Epoch 1/30\n",
            "542/542 [==============================] - 7s 12ms/step - loss: 0.5297 - acc: 0.7509 - val_loss: 0.4681 - val_acc: 0.7450\n",
            "Epoch 2/30\n",
            "542/542 [==============================] - 7s 13ms/step - loss: 0.3545 - acc: 0.8690 - val_loss: 0.2548 - val_acc: 0.9000\n",
            "Epoch 3/30\n",
            "542/542 [==============================] - 7s 13ms/step - loss: 0.2837 - acc: 0.8875 - val_loss: 0.2600 - val_acc: 0.9000\n",
            "Epoch 4/30\n",
            "542/542 [==============================] - 7s 13ms/step - loss: 0.2622 - acc: 0.8948 - val_loss: 0.2532 - val_acc: 0.9100\n",
            "Epoch 5/30\n",
            "542/542 [==============================] - 7s 13ms/step - loss: 0.2304 - acc: 0.8985 - val_loss: 0.3162 - val_acc: 0.8700\n",
            "Epoch 6/30\n",
            "542/542 [==============================] - 8s 16ms/step - loss: 0.2214 - acc: 0.9077 - val_loss: 0.2328 - val_acc: 0.9200\n",
            "Epoch 7/30\n",
            "542/542 [==============================] - 7s 14ms/step - loss: 0.1842 - acc: 0.9373 - val_loss: 0.2298 - val_acc: 0.9050\n",
            "Epoch 8/30\n",
            "542/542 [==============================] - 8s 14ms/step - loss: 0.1760 - acc: 0.9280 - val_loss: 0.2721 - val_acc: 0.9000\n",
            "Epoch 9/30\n",
            "542/542 [==============================] - 8s 14ms/step - loss: 0.1496 - acc: 0.9428 - val_loss: 0.1831 - val_acc: 0.9250\n",
            "Epoch 10/30\n",
            "542/542 [==============================] - 8s 14ms/step - loss: 0.1336 - acc: 0.9373 - val_loss: 0.2868 - val_acc: 0.9050\n",
            "Epoch 11/30\n",
            "542/542 [==============================] - 8s 14ms/step - loss: 0.1114 - acc: 0.9576 - val_loss: 0.2086 - val_acc: 0.9200\n",
            "Epoch 12/30\n",
            "542/542 [==============================] - 8s 14ms/step - loss: 0.0738 - acc: 0.9705 - val_loss: 0.2041 - val_acc: 0.9200\n",
            "Epoch 13/30\n",
            "542/542 [==============================] - 8s 14ms/step - loss: 0.0837 - acc: 0.9742 - val_loss: 0.2228 - val_acc: 0.9050\n",
            "Epoch 14/30\n",
            "542/542 [==============================] - 8s 14ms/step - loss: 0.0412 - acc: 0.9889 - val_loss: 0.2467 - val_acc: 0.9050\n",
            "Epoch 15/30\n",
            "542/542 [==============================] - 8s 14ms/step - loss: 0.0483 - acc: 0.9852 - val_loss: 0.3287 - val_acc: 0.8850\n",
            "Epoch 16/30\n",
            "542/542 [==============================] - 8s 14ms/step - loss: 0.0314 - acc: 0.9908 - val_loss: 0.2817 - val_acc: 0.8850\n",
            "Epoch 17/30\n",
            "542/542 [==============================] - 7s 14ms/step - loss: 0.0132 - acc: 1.0000 - val_loss: 0.3160 - val_acc: 0.8950\n",
            "Epoch 18/30\n",
            "542/542 [==============================] - 8s 14ms/step - loss: 0.0048 - acc: 1.0000 - val_loss: 0.3603 - val_acc: 0.9000\n",
            "Epoch 19/30\n",
            "542/542 [==============================] - 8s 14ms/step - loss: 0.0026 - acc: 1.0000 - val_loss: 0.3856 - val_acc: 0.8900\n",
            "Epoch 20/30\n",
            "542/542 [==============================] - 8s 14ms/step - loss: 0.0019 - acc: 1.0000 - val_loss: 0.3797 - val_acc: 0.8850\n",
            "Epoch 21/30\n",
            "542/542 [==============================] - 9s 16ms/step - loss: 0.0015 - acc: 1.0000 - val_loss: 0.4031 - val_acc: 0.9050\n",
            "Epoch 22/30\n",
            "542/542 [==============================] - 7s 14ms/step - loss: 0.0012 - acc: 1.0000 - val_loss: 0.4104 - val_acc: 0.8950\n",
            "Epoch 23/30\n",
            "542/542 [==============================] - 8s 14ms/step - loss: 0.0010 - acc: 1.0000 - val_loss: 0.4067 - val_acc: 0.8950\n",
            "Epoch 24/30\n",
            "542/542 [==============================] - 8s 14ms/step - loss: 8.8023e-04 - acc: 1.0000 - val_loss: 0.4176 - val_acc: 0.9000\n",
            "Epoch 25/30\n",
            "542/542 [==============================] - 8s 14ms/step - loss: 7.4312e-04 - acc: 1.0000 - val_loss: 0.4170 - val_acc: 0.8950\n",
            "Epoch 26/30\n",
            "542/542 [==============================] - 8s 14ms/step - loss: 6.5839e-04 - acc: 1.0000 - val_loss: 0.4248 - val_acc: 0.8950\n",
            "Epoch 27/30\n",
            "542/542 [==============================] - 8s 15ms/step - loss: 5.8688e-04 - acc: 1.0000 - val_loss: 0.4281 - val_acc: 0.8950\n",
            "Epoch 28/30\n",
            "542/542 [==============================] - 8s 15ms/step - loss: 5.2159e-04 - acc: 1.0000 - val_loss: 0.4407 - val_acc: 0.8950\n",
            "Epoch 29/30\n",
            "542/542 [==============================] - 8s 15ms/step - loss: 4.7752e-04 - acc: 1.0000 - val_loss: 0.4508 - val_acc: 0.9000\n",
            "Epoch 30/30\n",
            "542/542 [==============================] - 8s 15ms/step - loss: 4.3772e-04 - acc: 1.0000 - val_loss: 0.4530 - val_acc: 0.9000\n"
          ]
        }
      ],
      "source": [
        "history = model.fit(train_images,\n",
        "                    train_y,\n",
        "                    epochs=30,\n",
        "                    batch_size=1,\n",
        "                    validation_data=(val_images, val_y))"
      ]
    },
    {
      "cell_type": "code",
      "execution_count": 51,
      "metadata": {
        "colab": {
          "base_uri": "https://localhost:8080/"
        },
        "id": "roHji3jClHC5",
        "outputId": "9d1fdd6f-7e65-498c-d466-a805aee6fcb2"
      },
      "outputs": [
        {
          "output_type": "stream",
          "name": "stdout",
          "text": [
            "17/17 [==============================] - 1s 44ms/step - loss: 3.8517e-04 - acc: 1.0000\n"
          ]
        }
      ],
      "source": [
        "results_train = model.evaluate(train_images, train_y)"
      ]
    },
    {
      "cell_type": "code",
      "execution_count": 52,
      "metadata": {
        "colab": {
          "base_uri": "https://localhost:8080/"
        },
        "id": "PBgPVsiFlHC5",
        "outputId": "369fee1d-6533-433c-bbad-f97c7f0a7555"
      },
      "outputs": [
        {
          "output_type": "stream",
          "name": "stdout",
          "text": [
            "6/6 [==============================] - 0s 43ms/step - loss: 0.3514 - acc: 0.9278\n"
          ]
        }
      ],
      "source": [
        "results_test = model.evaluate(test_images, test_y)"
      ]
    },
    {
      "cell_type": "code",
      "execution_count": 53,
      "metadata": {
        "colab": {
          "base_uri": "https://localhost:8080/"
        },
        "id": "agLYL885lHC5",
        "outputId": "cc624a39-e09f-45cd-dde6-a1b2cd8d09d2"
      },
      "outputs": [
        {
          "output_type": "execute_result",
          "data": {
            "text/plain": [
              "[0.0003851685323752463, 1.0]"
            ]
          },
          "metadata": {},
          "execution_count": 53
        }
      ],
      "source": [
        "results_train"
      ]
    },
    {
      "cell_type": "code",
      "execution_count": 54,
      "metadata": {
        "colab": {
          "base_uri": "https://localhost:8080/"
        },
        "id": "Lm_Bv2FHlHC5",
        "outputId": "bae6a282-67f8-42a1-e3ce-9afcf31b0193"
      },
      "outputs": [
        {
          "output_type": "execute_result",
          "data": {
            "text/plain": [
              "[0.3513728976249695, 0.9277777671813965]"
            ]
          },
          "metadata": {},
          "execution_count": 54
        }
      ],
      "source": [
        "results_test"
      ]
    },
    {
      "cell_type": "markdown",
      "metadata": {
        "id": "j5yBOChtlHC5"
      },
      "source": [
        "## Data Augmentation"
      ]
    },
    {
      "cell_type": "markdown",
      "metadata": {
        "id": "n1W3F5vklHC5"
      },
      "source": [
        "`ImageDataGenerator()` becomes really useful when we *actually* want to generate more data. We'll show you how this works. "
      ]
    },
    {
      "cell_type": "code",
      "execution_count": 55,
      "metadata": {
        "id": "32D7jvc4lHC5"
      },
      "outputs": [],
      "source": [
        "train_datagen = ImageDataGenerator(rescale=1./255, \n",
        "                                   rotation_range=40, \n",
        "                                   width_shift_range=0.2, \n",
        "                                   height_shift_range=0.2, \n",
        "                                   shear_range=0.3, \n",
        "                                   zoom_range=0.1, \n",
        "                                   horizontal_flip=False)"
      ]
    },
    {
      "cell_type": "code",
      "execution_count": 56,
      "metadata": {
        "colab": {
          "base_uri": "https://localhost:8080/",
          "height": 770
        },
        "id": "WKcX_m2ClHC5",
        "outputId": "732c116c-4c8e-4d24-82b7-2d16bf869721"
      },
      "outputs": [
        {
          "output_type": "display_data",
          "data": {
            "text/plain": [
              "<Figure size 432x288 with 1 Axes>"
            ],
            "image/png": "[encoded data removed]"
          },
          "metadata": {
            "needs_background": "light"
          }
        },
        {
          "output_type": "display_data",
          "data": {
            "text/plain": [
              "<Figure size 432x288 with 1 Axes>"
            ],
            "image/png": "[encoded data removed]"
          },
          "metadata": {
            "needs_background": "light"
          }
        },
        {
          "output_type": "display_data",
          "data": {
            "text/plain": [
              "<Figure size 432x288 with 1 Axes>"
            ],
            "image/png": "[encoded data removed]"
          },
          "metadata": {
            "needs_background": "light"
          }
        }
      ],
      "source": [
        "names = [os.path.join(train_santa, name) for name in os.listdir(train_santa)]\n",
        "img_path = names[91]\n",
        "img = load_img(img_path, target_size=(64, 64))\n",
        "\n",
        "reshape_img = img_to_array(img) \n",
        "reshape_img = reshape_img.reshape((1,) + reshape_img.shape) \n",
        "i=0\n",
        "for batch in train_datagen.flow(reshape_img, batch_size=1):\n",
        "    plt.figure(i)\n",
        "    imgplot = plt.imshow(array_to_img(batch[0]))\n",
        "    i += 1\n",
        "    if i % 3 == 0:\n",
        "        break\n",
        "plt.show()"
      ]
    },
    {
      "cell_type": "code",
      "execution_count": 57,
      "metadata": {
        "colab": {
          "base_uri": "https://localhost:8080/"
        },
        "id": "tHlQHeOjlHC5",
        "outputId": "b381c48f-8c06-4b0b-8312-2a9aebf88685"
      },
      "outputs": [
        {
          "output_type": "stream",
          "name": "stdout",
          "text": [
            "Found 180 images belonging to 2 classes.\n",
            "Found 200 images belonging to 2 classes.\n",
            "Found 542 images belonging to 2 classes.\n"
          ]
        }
      ],
      "source": [
        "# get all the data in the directory split/test (180 images), and reshape them\n",
        "test_generator = ImageDataGenerator(rescale=1./255).flow_from_directory(\n",
        "        test_folder, \n",
        "        target_size=(64, 64), \n",
        "        batch_size = 180,\n",
        "        class_mode='binary') \n",
        "\n",
        "# get all the data in the directory split/validation (200 images), and reshape them\n",
        "val_generator = ImageDataGenerator(rescale=1./255).flow_from_directory(\n",
        "        val_folder, \n",
        "        target_size=(64, 64),\n",
        "        batch_size = 32,\n",
        "        class_mode='binary')\n",
        "\n",
        "# get all the data in the directory split/train (542 images), and reshape them\n",
        "train_generator = train_datagen.flow_from_directory(\n",
        "        train_folder, \n",
        "        target_size=(64, 64), \n",
        "        batch_size = 32, \n",
        "        class_mode='binary')"
      ]
    },
    {
      "cell_type": "code",
      "execution_count": 58,
      "metadata": {
        "id": "FkwR3ZEMlHC5"
      },
      "outputs": [],
      "source": [
        "model = models.Sequential()\n",
        "model.add(layers.Conv2D(32, (3, 3), activation='relu',\n",
        "                        input_shape=(64 ,64,  3)))\n",
        "model.add(layers.MaxPooling2D((2, 2)))\n",
        "\n",
        "model.add(layers.Conv2D(32, (4, 4), activation='relu'))\n",
        "model.add(layers.MaxPooling2D((2, 2)))\n",
        "\n",
        "model.add(layers.Conv2D(64, (3, 3), activation='relu'))\n",
        "model.add(layers.MaxPooling2D((2, 2)))\n",
        "\n",
        "model.add(layers.Flatten())\n",
        "model.add(layers.Dense(64, activation='relu'))\n",
        "model.add(layers.Dense(1, activation='sigmoid'))\n",
        "\n",
        "model.compile(loss='binary_crossentropy',\n",
        "              optimizer= 'sgd',\n",
        "              metrics=['acc'])"
      ]
    },
    {
      "cell_type": "code",
      "execution_count": 59,
      "metadata": {
        "colab": {
          "base_uri": "https://localhost:8080/"
        },
        "id": "1ScXkrYWlHC5",
        "outputId": "b053c140-6650-409c-e8d8-e2de7f14595a"
      },
      "outputs": [
        {
          "output_type": "stream",
          "name": "stderr",
          "text": [
            "/usr/local/lib/python3.7/dist-packages/ipykernel_launcher.py:5: UserWarning: `Model.fit_generator` is deprecated and will be removed in a future version. Please use `Model.fit`, which supports generators.\n",
            "  \"\"\"\n"
          ]
        },
        {
          "output_type": "stream",
          "name": "stdout",
          "text": [
            "Epoch 1/30\n",
            "17/25 [===================>..........] - ETA: 5s - loss: 0.6881 - acc: 0.5424WARNING:tensorflow:Your input ran out of data; interrupting training. Make sure that your dataset or generator can generate at least `steps_per_epoch * epochs` batches (in this case, 750 batches). You may need to use the repeat() function when building your dataset.\n"
          ]
        },
        {
          "output_type": "stream",
          "name": "stderr",
          "text": [
            "WARNING:tensorflow:Your input ran out of data; interrupting training. Make sure that your dataset or generator can generate at least `steps_per_epoch * epochs` batches (in this case, 750 batches). You may need to use the repeat() function when building your dataset.\n"
          ]
        },
        {
          "output_type": "stream",
          "name": "stdout",
          "text": [
            "WARNING:tensorflow:Your input ran out of data; interrupting training. Make sure that your dataset or generator can generate at least `steps_per_epoch * epochs` batches (in this case, 25 batches). You may need to use the repeat() function when building your dataset.\n"
          ]
        },
        {
          "output_type": "stream",
          "name": "stderr",
          "text": [
            "WARNING:tensorflow:Your input ran out of data; interrupting training. Make sure that your dataset or generator can generate at least `steps_per_epoch * epochs` batches (in this case, 25 batches). You may need to use the repeat() function when building your dataset.\n"
          ]
        },
        {
          "output_type": "stream",
          "name": "stdout",
          "text": [
            "\b\b\b\b\b\b\b\b\b\b\b\b\b\b\b\b\b\b\b\b\b\b\b\b\b\b\b\b\b\b\b\b\b\b\b\b\b\b\b\b\b\b\b\b\b\b\b\b\b\b\b\b\b\b\b\b\b\b\b\b\b\b\b\b\b\b\b\b\b\b\b\b\b\b\b\b\b\r25/25 [==============================] - 20s 720ms/step - loss: 0.6881 - acc: 0.5424 - val_loss: 0.6785 - val_acc: 0.5000\n"
          ]
        }
      ],
      "source": [
        "history_2 = model.fit_generator(train_generator, \n",
        "                                steps_per_epoch=25, \n",
        "                                epochs=30, \n",
        "                                validation_data=val_generator, \n",
        "                                validation_steps=25)"
      ]
    },
    {
      "cell_type": "code",
      "execution_count": 60,
      "metadata": {
        "id": "EoCQMtuWlHC5"
      },
      "outputs": [],
      "source": [
        "test_x, test_y = next(test_generator)"
      ]
    },
    {
      "cell_type": "code",
      "execution_count": 61,
      "metadata": {
        "colab": {
          "base_uri": "https://localhost:8080/"
        },
        "id": "WShpmgKjlHC5",
        "outputId": "4dcf9ea6-51b4-40ee-a9cb-e4b76e1c8baf"
      },
      "outputs": [
        {
          "output_type": "stream",
          "name": "stdout",
          "text": [
            "6/6 [==============================] - 0s 47ms/step - loss: 0.6814 - acc: 0.5000\n"
          ]
        }
      ],
      "source": [
        "results_test = model.evaluate(test_x, test_y)"
      ]
    },
    {
      "cell_type": "code",
      "execution_count": 62,
      "metadata": {
        "colab": {
          "base_uri": "https://localhost:8080/"
        },
        "id": "23w74WPulHC5",
        "outputId": "e881acb0-decd-4478-8a3e-c9980095111d"
      },
      "outputs": [
        {
          "output_type": "execute_result",
          "data": {
            "text/plain": [
              "[0.6814417839050293, 0.5]"
            ]
          },
          "metadata": {},
          "execution_count": 62
        }
      ],
      "source": [
        "results_test"
      ]
    },
    {
      "cell_type": "markdown",
      "metadata": {
        "id": "PWBfPHdjlHC5"
      },
      "source": [
        "## Summary  \n",
        "\n",
        "In this code along lab, we looked again at some of the preprocessing techniques needed in order to organize our data prior to building a model using Keras. Afterwards, we investigated new code in order to build a CNN for image recognition."
      ]
    }
  ],
  "metadata": {
    "kernelspec": {
      "display_name": "Python 3",
      "language": "python",
      "name": "python3"
    },
    "language_info": {
      "codemirror_mode": {
        "name": "ipython",
        "version": 3
      },
      "file_extension": ".py",
      "mimetype": "text/x-python",
      "name": "python",
      "nbconvert_exporter": "python",
      "pygments_lexer": "ipython3",
      "version": "3.8.5"
    },
    "colab": {
      "name": "index (4).ipynb",
      "provenance": [],
      "include_colab_link": true
    }
  },
  "nbformat": 4,
  "nbformat_minor": 0
}